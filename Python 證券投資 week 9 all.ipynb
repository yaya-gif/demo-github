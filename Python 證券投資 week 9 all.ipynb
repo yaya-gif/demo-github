{
 "cells": [
  {
   "cell_type": "code",
   "execution_count": 6,
   "metadata": {},
   "outputs": [
    {
     "name": "stdout",
     "output_type": "stream",
     "text": [
      "0          Java\n",
      "1        Python\n",
      "2    JavaScript\n",
      "dtype: object\n"
     ]
    }
   ],
   "source": [
    "import pandas as pd\n",
    "serie = pd.Series(['Java','Python','JavaScript'])\n",
    "print(serie)"
   ]
  },
  {
   "cell_type": "code",
   "execution_count": 7,
   "metadata": {},
   "outputs": [
    {
     "name": "stdout",
     "output_type": "stream",
     "text": [
      "Java          3\n",
      "Python        1\n",
      "JavaScript    2\n",
      "dtype: int64\n"
     ]
    }
   ],
   "source": [
    "import pandas as pd\n",
    "\n",
    "languages=['Java','Python','JavaScript']\n",
    "ranking =[3,1,2]\n",
    "serie =pd.Series(ranking, index=languages)\n",
    "print(serie)"
   ]
  },
  {
   "cell_type": "code",
   "execution_count": 8,
   "metadata": {},
   "outputs": [
    {
     "name": "stdout",
     "output_type": "stream",
     "text": [
      "3\n"
     ]
    }
   ],
   "source": [
    "import pandas as pd\n",
    "\n",
    "languages=['Java','Python','JavaScript']\n",
    "ranking =[3,1,2]\n",
    "serie =pd.Series(ranking, index=languages)\n",
    "print(serie['Java'])"
   ]
  },
  {
   "cell_type": "code",
   "execution_count": 9,
   "metadata": {},
   "outputs": [
    {
     "name": "stdout",
     "output_type": "stream",
     "text": [
      "Tony    77\n",
      "Amy     45\n",
      "Joe     12\n",
      "dtype: int64\n"
     ]
    }
   ],
   "source": [
    "import pandas as pd\n",
    "names=['Tony','Amy','Joe']\n",
    "followers=[77,45,12]\n",
    "serie=pd.Series(followers, index=names)\n",
    "print(serie)"
   ]
  },
  {
   "cell_type": "code",
   "execution_count": 16,
   "metadata": {},
   "outputs": [
    {
     "name": "stdout",
     "output_type": "stream",
     "text": [
      "          名稱  票房金額（新台幣）  類別\n",
      "名偵探柯南  名偵探柯南    1452324  動畫\n",
      "復仇者聯盟  復仇者聯盟    2324739  動作\n",
      "那些年      那些年    1416601  文藝\n"
     ]
    }
   ],
   "source": [
    "import pandas as pd\n",
    "\n",
    "movies = {\n",
    "    '名稱': ['名偵探柯南', '復仇者聯盟', '那些年'],\n",
    "    '票房金額（新台幣）': [1452324, 2324739, 1416601],\n",
    "    '類別': ['動畫', '動作', '文藝']\n",
    "}\n",
    "\n",
    "df = pd.DataFrame(movies, index=movies['名稱'])\n",
    "\n",
    "print(df)"
   ]
  },
  {
   "cell_type": "code",
   "execution_count": 19,
   "metadata": {},
   "outputs": [
    {
     "name": "stdout",
     "output_type": "stream",
     "text": [
      "   類別  票房金額（新台幣）\n",
      "0  動畫    1452324\n",
      "1  動作    2324739\n",
      "2  文藝    1416601\n"
     ]
    }
   ],
   "source": [
    "import pandas as pd\n",
    "\n",
    "movies = {\n",
    "    '名稱': ['名偵探柯南', '復仇者聯盟', '那些年'],\n",
    "    '票房金額（新台幣）': [1452324, 2324739, 1416601],\n",
    "    '類別': ['動畫', '動作', '文藝']\n",
    "}\n",
    "\n",
    "df = pd.DataFrame(movies, columns=['類別', '票房金額（新台幣）'])\n",
    "\n",
    "print(df)"
   ]
  },
  {
   "cell_type": "code",
   "execution_count": 21,
   "metadata": {},
   "outputs": [
    {
     "name": "stdout",
     "output_type": "stream",
     "text": [
      "<class 'pandas.core.frame.DataFrame'>\n",
      "RangeIndex: 3 entries, 0 to 2\n",
      "Data columns (total 3 columns):\n",
      " #   Column     Non-Null Count  Dtype \n",
      "---  ------     --------------  ----- \n",
      " 0   名稱         3 non-null      object\n",
      " 1   票房金額（新台幣）  3 non-null      int64 \n",
      " 2   類別         3 non-null      object\n",
      "dtypes: int64(1), object(2)\n",
      "memory usage: 200.0+ bytes\n",
      "None\n",
      "          票房金額（新台幣）\n",
      "count  3.000000e+00\n",
      "mean   1.731221e+06\n",
      "std    5.143116e+05\n",
      "min    1.416601e+06\n",
      "25%    1.434462e+06\n",
      "50%    1.452324e+06\n",
      "75%    1.888532e+06\n",
      "max    2.324739e+06\n"
     ]
    }
   ],
   "source": [
    "import pandas as pd\n",
    "\n",
    "movies = {\n",
    "    '名稱': ['名偵探柯南', '復仇者聯盟', '那些年'],\n",
    "    '票房金額（新台幣）': [1452324, 2324739, 1416601],\n",
    "    '類別': ['動畫', '動作', '文藝']\n",
    "}\n",
    "\n",
    "df=pd.DataFrame(movies)\n",
    "\n",
    "print(df.info())\n",
    "print(df.describe())"
   ]
  },
  {
   "cell_type": "code",
   "execution_count": 22,
   "metadata": {},
   "outputs": [
    {
     "name": "stdout",
     "output_type": "stream",
     "text": [
      "      名稱  票房金額（新台幣）  類別\n",
      "0  名偵探柯南    1452324  動畫\n",
      "1  復仇者聯盟    2324739  動作\n"
     ]
    }
   ],
   "source": [
    "import pandas as pd\n",
    "\n",
    "movies = {\n",
    "    '名稱': ['名偵探柯南', '復仇者聯盟', '那些年'],\n",
    "    '票房金額（新台幣）': [1452324, 2324739, 1416601],\n",
    "    '類別': ['動畫', '動作', '文藝']\n",
    "}\n",
    "\n",
    "df=pd.DataFrame(movies)\n",
    "\n",
    "print(df.head(2))"
   ]
  },
  {
   "cell_type": "code",
   "execution_count": 23,
   "metadata": {},
   "outputs": [
    {
     "name": "stdout",
     "output_type": "stream",
     "text": [
      "      名稱  票房金額（新台幣）  類別\n",
      "1  復仇者聯盟    2324739  動作\n",
      "2    那些年    1416601  文藝\n"
     ]
    }
   ],
   "source": [
    "import pandas as pd\n",
    "\n",
    "movies = {\n",
    "    '名稱': ['名偵探柯南', '復仇者聯盟', '那些年'],\n",
    "    '票房金額（新台幣）': [1452324, 2324739, 1416601],\n",
    "    '類別': ['動畫', '動作', '文藝']\n",
    "}\n",
    "\n",
    "df=pd.DataFrame(movies)\n",
    "\n",
    "print(df.tail(2))"
   ]
  },
  {
   "cell_type": "code",
   "execution_count": 24,
   "metadata": {},
   "outputs": [
    {
     "name": "stdout",
     "output_type": "stream",
     "text": [
      "RangeIndex(start=0, stop=3, step=1)\n",
      "Index(['名稱', '票房金額（新台幣）', '類別'], dtype='object')\n",
      "[['名偵探柯南' 1452324 '動畫']\n",
      " ['復仇者聯盟' 2324739 '動作']\n",
      " ['那些年' 1416601 '文藝']]\n"
     ]
    }
   ],
   "source": [
    "import pandas as pd\n",
    "\n",
    "movies = {\n",
    "    '名稱': ['名偵探柯南', '復仇者聯盟', '那些年'],\n",
    "    '票房金額（新台幣）': [1452324, 2324739, 1416601],\n",
    "    '類別': ['動畫', '動作', '文藝']\n",
    "}\n",
    "\n",
    "df = pd.DataFrame(movies)\n",
    "\n",
    "print(df.index)\n",
    "print(df.columns)\n",
    "print(df.values)"
   ]
  },
  {
   "cell_type": "code",
   "execution_count": 25,
   "metadata": {},
   "outputs": [
    {
     "name": "stdout",
     "output_type": "stream",
     "text": [
      "名偵探柯南 動畫\n",
      "復仇者聯盟 動作\n",
      "那些年 文藝\n"
     ]
    }
   ],
   "source": [
    "import pandas as pd\n",
    "\n",
    "movies = {\n",
    "    '名稱': ['名偵探柯南', '復仇者聯盟', '那些年'],\n",
    "    '票房金額（新台幣）': [1452324, 2324739, 1416601],\n",
    "    '類別': ['動畫', '動作', '文藝']\n",
    "}\n",
    "\n",
    "df = pd.DataFrame(movies)\n",
    "\n",
    "for index, row in df.iterrows():\n",
    "    print(row['名稱'], row['類別'])"
   ]
  },
  {
   "cell_type": "code",
   "execution_count": 29,
   "metadata": {},
   "outputs": [
    {
     "name": "stdout",
     "output_type": "stream",
     "text": [
      "名偵探柯南 動畫\n",
      "復仇者聯盟 動作\n",
      "那些年 文藝\n"
     ]
    },
    {
     "data": {
      "text/html": [
       "<div>\n",
       "<style scoped>\n",
       "    .dataframe tbody tr th:only-of-type {\n",
       "        vertical-align: middle;\n",
       "    }\n",
       "\n",
       "    .dataframe tbody tr th {\n",
       "        vertical-align: top;\n",
       "    }\n",
       "\n",
       "    .dataframe thead th {\n",
       "        text-align: right;\n",
       "    }\n",
       "</style>\n",
       "<table border=\"1\" class=\"dataframe\">\n",
       "  <thead>\n",
       "    <tr style=\"text-align: right;\">\n",
       "      <th></th>\n",
       "      <th>名稱</th>\n",
       "      <th>票房金額（新台幣）</th>\n",
       "      <th>類別</th>\n",
       "    </tr>\n",
       "  </thead>\n",
       "  <tbody>\n",
       "    <tr>\n",
       "      <th>1</th>\n",
       "      <td>復仇者聯盟</td>\n",
       "      <td>2324739</td>\n",
       "      <td>動作</td>\n",
       "    </tr>\n",
       "  </tbody>\n",
       "</table>\n",
       "</div>"
      ],
      "text/plain": [
       "      名稱  票房金額（新台幣）  類別\n",
       "1  復仇者聯盟    2324739  動作"
      ]
     },
     "execution_count": 29,
     "metadata": {},
     "output_type": "execute_result"
    }
   ],
   "source": [
    "import pandas as pd\n",
    "\n",
    "movies = {\n",
    "    '名稱': ['名偵探柯南', '復仇者聯盟', '那些年'],\n",
    "    '票房金額（新台幣）': [1452324, 2324739, 1416601],\n",
    "    '類別': ['動畫', '動作', '文藝']\n",
    "}\n",
    "\n",
    "df = pd.DataFrame(movies)\n",
    "\n",
    "for index, row in df.iterrows():\n",
    "    print(row['名稱'], row['類別'])\n",
    "    \n",
    "df.loc[0, '名稱']\n",
    "df.loc[0:1 ,'名稱':'類別'] #index和 column 各自取範圍\n",
    "df[df['票房金額（新台幣）'] > 2000000] #只顯示票房超過新台幣2000000的資料"
   ]
  },
  {
   "cell_type": "code",
   "execution_count": 30,
   "metadata": {},
   "outputs": [
    {
     "name": "stdout",
     "output_type": "stream",
     "text": [
      "名偵探柯南 動畫\n",
      "復仇者聯盟 動作\n",
      "那些年 文藝\n"
     ]
    },
    {
     "data": {
      "text/html": [
       "<div>\n",
       "<style scoped>\n",
       "    .dataframe tbody tr th:only-of-type {\n",
       "        vertical-align: middle;\n",
       "    }\n",
       "\n",
       "    .dataframe tbody tr th {\n",
       "        vertical-align: top;\n",
       "    }\n",
       "\n",
       "    .dataframe thead th {\n",
       "        text-align: right;\n",
       "    }\n",
       "</style>\n",
       "<table border=\"1\" class=\"dataframe\">\n",
       "  <thead>\n",
       "    <tr style=\"text-align: right;\">\n",
       "      <th></th>\n",
       "      <th>名稱</th>\n",
       "      <th>票房金額（新台幣）</th>\n",
       "      <th>類別</th>\n",
       "    </tr>\n",
       "  </thead>\n",
       "  <tbody>\n",
       "    <tr>\n",
       "      <th>0</th>\n",
       "      <td>名偵探柯南</td>\n",
       "      <td>1452324</td>\n",
       "      <td>動畫</td>\n",
       "    </tr>\n",
       "  </tbody>\n",
       "</table>\n",
       "</div>"
      ],
      "text/plain": [
       "      名稱  票房金額（新台幣）  類別\n",
       "0  名偵探柯南    1452324  動畫"
      ]
     },
     "execution_count": 30,
     "metadata": {},
     "output_type": "execute_result"
    }
   ],
   "source": [
    "import pandas as pd\n",
    "\n",
    "movies = {\n",
    "    '名稱': ['名偵探柯南', '復仇者聯盟', '那些年'],\n",
    "    '票房金額（新台幣）': [1452324, 2324739, 1416601],\n",
    "    '類別': ['動畫', '動作', '文藝']\n",
    "}\n",
    "\n",
    "df = pd.DataFrame(movies)\n",
    "\n",
    "for index, row in df.iterrows():\n",
    "    print(row['名稱'], row['類別'])\n",
    "    \n",
    "df.loc[0, '名稱']\n",
    "df[df['類別'] == '動畫']"
   ]
  },
  {
   "cell_type": "code",
   "execution_count": 1,
   "metadata": {},
   "outputs": [
    {
     "name": "stdout",
     "output_type": "stream",
     "text": [
      "<class 'pandas.core.frame.DataFrame'>\n",
      "RangeIndex: 657 entries, 0 to 656\n",
      "Data columns (total 14 columns):\n",
      " #   Column   Non-Null Count  Dtype  \n",
      "---  ------   --------------  -----  \n",
      " 0   sno      657 non-null    int64  \n",
      " 1   sna      657 non-null    object \n",
      " 2   tot      657 non-null    int64  \n",
      " 3   sbi      657 non-null    int64  \n",
      " 4   sarea    657 non-null    object \n",
      " 5   mday     657 non-null    float64\n",
      " 6   lat      657 non-null    float64\n",
      " 7   lng      657 non-null    float64\n",
      " 8   ar       657 non-null    object \n",
      " 9   sareaen  657 non-null    object \n",
      " 10  snaen    656 non-null    object \n",
      " 11  aren     654 non-null    object \n",
      " 12  bemp     657 non-null    int64  \n",
      " 13  act      657 non-null    int64  \n",
      "dtypes: float64(3), int64(5), object(6)\n",
      "memory usage: 72.0+ KB\n",
      "None\n",
      "               sno         tot         sbi          mday         lat  \\\n",
      "count   657.000000  657.000000  657.000000  6.570000e+02  657.000000   \n",
      "mean   1350.467275   41.449011   15.497717  2.021064e+13   25.034096   \n",
      "std     219.528818   12.914620    9.465136  7.474805e+08    0.059706   \n",
      "min    1001.000000   14.000000    0.000000  2.020110e+13   24.907449   \n",
      "25%    1165.000000   34.000000    9.000000  2.021070e+13   24.992020   \n",
      "50%    1329.000000   38.000000   14.000000  2.021070e+13   25.023360   \n",
      "75%    1499.000000   46.000000   20.000000  2.021070e+13   25.068940   \n",
      "max    1763.000000  114.000000   71.000000  2.021070e+13   25.285491   \n",
      "\n",
      "              lng        bemp         act  \n",
      "count  657.000000  657.000000  657.000000  \n",
      "mean   121.472732   24.945205    0.989346  \n",
      "std      0.072067   10.980167    0.102747  \n",
      "min    121.329380    0.000000    0.000000  \n",
      "25%    121.433736   18.000000    1.000000  \n",
      "50%    121.462890   24.000000    1.000000  \n",
      "75%    121.498484   30.000000    1.000000  \n",
      "max    121.827190   84.000000    1.000000  \n",
      "      sno          sna  tot  sbi sarea          mday        lat         lng  \\\n",
      "7    1008         興華公園   40   18   三重區  2.021070e+13  25.060125  121.483101   \n",
      "8    1009     三重國民運動中心   68   13   三重區  2.021070e+13  25.054391  121.488489   \n",
      "9    1010  捷運三重站(3號出口)   34   20   三重區  2.021070e+13  25.055883  121.484739   \n",
      "19   1020         重陽國小   36   13   三重區  2.021070e+13  25.066245  121.484337   \n",
      "20   1021         明志國中   50   14   三重區  2.021070e+13  25.063396  121.488982   \n",
      "..    ...          ...  ...  ...   ...           ...        ...         ...   \n",
      "575  1667         慈愛公園   30    3   三重區  2.021070e+13  25.081190  121.484610   \n",
      "588  1680    後竹圍市民活動中心   32   16   三重區  2.021070e+13  25.072460  121.485760   \n",
      "603  1696   三重商工(後竹圍街)   36   11   三重區  2.021070e+13  25.070310  121.479760   \n",
      "635  1728     疏洪東竹圍仔街口   26    6   三重區  2.021070e+13  25.048614  121.486398   \n",
      "656  1763  捷運三重站(1號出口)   40   13   三重區  2.021070e+13  25.054640  121.483220   \n",
      "\n",
      "                         ar         sareaen  \\\n",
      "7           重陽路一段120巷/中華路2巷  Sanchong Dist.   \n",
      "8             集美街/重新路四段184巷  Sanchong Dist.   \n",
      "9                捷運路/捷運路37巷  Sanchong Dist.   \n",
      "19             中正北路/三民街175巷  Sanchong Dist.   \n",
      "20                 中正北路107號  Sanchong Dist.   \n",
      "..                      ...             ...   \n",
      "575           仁愛街584號旁公園人行道  Sanchong Dist.   \n",
      "588         後竹圍街175巷18號(對面)  Sanchong Dist.   \n",
      "603  中正北路165巷53號(後竹圍街路側停車格)  Sanchong Dist.   \n",
      "635      疏洪東路/竹圍仔街口(東北側人行道)  Sanchong Dist.   \n",
      "656               捷運路36號(旁)  Sanchong Dist.   \n",
      "\n",
      "                                                 snaen  \\\n",
      "7                                         Xinghua Park   \n",
      "8                        San chong Civil Sports Center   \n",
      "9                           MRT Sanchong Sta. (Exit 3)   \n",
      "19                        Chong Yang Elementary School   \n",
      "20                          Mingzhi Junior High School   \n",
      "..                                                 ...   \n",
      "575                                         Ci'ai Park   \n",
      "588                    Houzhuwei Civil Activity Center   \n",
      "603  San-Chung Commercial and Industrial Vocational...   \n",
      "635                Shuhong E. & Zhuweizai Intersection   \n",
      "656                      MRT Sanchong Station (Exit.1)   \n",
      "\n",
      "                                                  aren  bemp  act  \n",
      "7    Ln. 120, Sec. 1, Chongyang Rd./Ln. 2, Zhonghua...    22    1  \n",
      "8    Jimei St., Sanchong Dist./Ln. 184, Sec. 4, Cho...    53    1  \n",
      "9                        Jieyun Rd./Ln. 37, Jieyun Rd.    14    1  \n",
      "19               Zhongzheng N. Rd./Ln. 175, Sanmin St.    22    1  \n",
      "20                            No.107, Zhongzheng N. Rd    36    1  \n",
      "..                                                 ...   ...  ...  \n",
      "575                No. 584, Ren’ai St., Sanchong Dist.    27    1  \n",
      "588    No. 152, Fangzhou 8th Rd., Wugu Dist.(opposite)    16    1  \n",
      "603  No. 53, Ln. 165, Zhongzheng N. Rd., Sanchong D...    25    1  \n",
      "635  Shuhong East Road/Zhuweizi Street Intersection...    20    1  \n",
      "656                          No. 36, Jieyun Rd. (Side)    27    1  \n",
      "\n",
      "[66 rows x 14 columns]\n"
     ]
    }
   ],
   "source": [
    "import pandas as pd\n",
    "df =pd.read_csv('YouBike.csv',encoding='utf-8')\n",
    "print(df.info())\n",
    "print(df.describe())\n",
    "print(df[df['sarea']=='三重區'])"
   ]
  },
  {
   "cell_type": "code",
   "execution_count": 2,
   "metadata": {},
   "outputs": [
    {
     "name": "stdout",
     "output_type": "stream",
     "text": [
      "Requirement already satisfied: matplotlib in c:\\users\\yangt\\anaconda3\\lib\\site-packages (3.3.2)\n",
      "Requirement already satisfied: cycler>=0.10 in c:\\users\\yangt\\anaconda3\\lib\\site-packages (from matplotlib) (0.10.0)\n",
      "Requirement already satisfied: numpy>=1.15 in c:\\users\\yangt\\anaconda3\\lib\\site-packages (from matplotlib) (1.19.2)\n",
      "Requirement already satisfied: pyparsing!=2.0.4,!=2.1.2,!=2.1.6,>=2.0.3 in c:\\users\\yangt\\anaconda3\\lib\\site-packages (from matplotlib) (2.4.7)\n",
      "Requirement already satisfied: pillow>=6.2.0 in c:\\users\\yangt\\anaconda3\\lib\\site-packages (from matplotlib) (8.0.1)\n",
      "Requirement already satisfied: certifi>=2020.06.20 in c:\\users\\yangt\\anaconda3\\lib\\site-packages (from matplotlib) (2020.6.20)\n",
      "Requirement already satisfied: python-dateutil>=2.1 in c:\\users\\yangt\\anaconda3\\lib\\site-packages (from matplotlib) (2.8.1)\n",
      "Requirement already satisfied: kiwisolver>=1.0.1 in c:\\users\\yangt\\anaconda3\\lib\\site-packages (from matplotlib) (1.3.0)\n",
      "Requirement already satisfied: six in c:\\users\\yangt\\anaconda3\\lib\\site-packages (from cycler>=0.10->matplotlib) (1.15.0)\n"
     ]
    }
   ],
   "source": [
    "!pip install matplotlib"
   ]
  },
  {
   "cell_type": "code",
   "execution_count": 3,
   "metadata": {},
   "outputs": [
    {
     "data": {
      "image/png": "[encoded data removed]",
      "text/plain": [
       "<Figure size 432x288 with 1 Axes>"
      ]
     },
     "metadata": {
      "needs_background": "light"
     },
     "output_type": "display_data"
    }
   ],
   "source": [
    "import matplotlib.pyplot as plt\n",
    "\n",
    "# X 軸\n",
    "stock_list = ['2031', '2341', '2342', '2345']\n",
    "# Y 軸\n",
    "volumes = [23341, 412221, 41907, 3115987]\n",
    "\n",
    "plt.bar(stock_list, volumes)\n",
    "# 若使用 VS Code 搭配 terminal 終端機或 Jupyter Notebook 執行使用\n",
    "plt.show()"
   ]
  },
  {
   "cell_type": "code",
   "execution_count": 4,
   "metadata": {},
   "outputs": [
    {
     "data": {
      "image/png": "[encoded data removed]",
      "text/plain": [
       "<Figure size 432x288 with 1 Axes>"
      ]
     },
     "metadata": {
      "needs_background": "light"
     },
     "output_type": "display_data"
    }
   ],
   "source": [
    "import matplotlib.pyplot as plt\n",
    "\n",
    "# X 軸\n",
    "stock_list = ['11/1', '11/2', '11/3', '11/4']\n",
    "# Y 軸\n",
    "prices = [23, 41, 41, 3]\n",
    "\n",
    "plt.plot(stock_list, prices)\n",
    "# 若使用 VS Code 搭配 terminal 終端機或 Jupyter Notebook 執行使用\n",
    "plt.show()\n",
    "# 若使用 repl.it 執行需要將圖表存為圖片後於左方資料夾選擇圖片檔案觀看結果"
   ]
  },
  {
   "cell_type": "code",
   "execution_count": 6,
   "metadata": {},
   "outputs": [
    {
     "data": {
      "image/png": "[encoded data removed]",
      "text/plain": [
       "<Figure size 432x288 with 1 Axes>"
      ]
     },
     "metadata": {},
     "output_type": "display_data"
    }
   ],
   "source": [
    "import matplotlib.pyplot as plt\n",
    "\n",
    "# X 軸\n",
    "stock_list = ['2031', '2341', '2342', '2345']\n",
    "# Y 軸\n",
    "volumes = [23341, 412221, 41907, 3115987]\n",
    "\n",
    "plt.pie(volumes, labels=stock_list)\n",
    "# 若使用 VS Code 搭配 terminal 終端機或 Jupyter Notebook 執行使用\n",
    "plt.show()"
   ]
  },
  {
   "cell_type": "code",
   "execution_count": 1,
   "metadata": {},
   "outputs": [
    {
     "name": "stdout",
     "output_type": "stream",
     "text": [
      "data          year_revenue\n",
      "date                 \n",
      "NaN               NaN\n",
      "2021/03        3624.0\n",
      "2021/02        2333.0\n",
      "2021/01        1267.0\n",
      "2020/12       13393.0\n",
      "2020/11       12219.0\n",
      "2020/10       10970.0\n",
      "2020/09        9777.0\n",
      "2020/08        8501.0\n",
      "2020/07        7273.0\n",
      "2020/06        6213.0\n",
      "2020/05        5004.0\n",
      "2020/04        4066.0\n"
     ]
    },
    {
     "data": {
      "image/png": "[encoded data removed]",
      "text/plain": [
       "<Figure size 432x288 with 1 Axes>"
      ]
     },
     "metadata": {
      "needs_background": "light"
     },
     "output_type": "display_data"
    }
   ],
   "source": [
    "import pandas as pd\n",
    "import matplotlib.pyplot as plt\n",
    "\n",
    "\n",
    "# 讀取 CSV 資料\n",
    "df = pd.read_csv('performance2.csv')\n",
    "\n",
    "# 選取所有列的 date, year_revenue 欄資料\n",
    "data = df.loc[:, ['date', 'year_revenue']]\n",
    "# 將 date 設為 index，要當作 X 軸使用\n",
    "data = data.set_index('date')\n",
    "\n",
    "print('data', data)\n",
    "\n",
    "# 產生 line chart\n",
    "fig = data.plot(kind='line').get_figure()\n",
    "# 設定圖表標頭\n",
    "plt.title('stock performance')\n",
    "# 儲存成圖片\n",
    "fig.savefig('plot.png')"
   ]
  },
  {
   "cell_type": "code",
   "execution_count": 3,
   "metadata": {},
   "outputs": [],
   "source": [
    "import pandas as pd\n",
    "#讀入資料及檔案\n",
    "df =pd.read_csv('109married.csv')"
   ]
  },
  {
   "cell_type": "code",
   "execution_count": 4,
   "metadata": {},
   "outputs": [
    {
     "name": "stdout",
     "output_type": "stream",
     "text": [
      "   月份區域別     一月\n",
      "0    桃園區  257.0\n",
      "1    中壢區  251.0\n",
      "2    大溪區   44.0\n",
      "3    楊梅區  112.0\n",
      "4    蘆竹區   83.0\n",
      "5    大園區   57.0\n",
      "6    龜山區   89.0\n",
      "7    八德區  122.0\n",
      "8    龍潭區   64.0\n",
      "9    平鎮區  144.0\n",
      "10   NaN    NaN\n"
     ]
    }
   ],
   "source": [
    "import pandas as pd\n",
    "#讀入資料及檔案\n",
    "df =pd.read_csv('109married.csv')\n",
    "\n",
    "data = df.loc[:, ['月份區域別', '一月']]\n",
    "print(data)\n"
   ]
  },
  {
   "cell_type": "code",
   "execution_count": 5,
   "metadata": {},
   "outputs": [
    {
     "name": "stdout",
     "output_type": "stream",
     "text": [
      "          一月\n",
      "月份區域別       \n",
      "桃園區    257.0\n",
      "中壢區    251.0\n",
      "大溪區     44.0\n",
      "楊梅區    112.0\n",
      "蘆竹區     83.0\n",
      "大園區     57.0\n",
      "龜山區     89.0\n",
      "八德區    122.0\n",
      "龍潭區     64.0\n",
      "平鎮區    144.0\n",
      "NaN      NaN\n"
     ]
    }
   ],
   "source": [
    "import pandas as pd\n",
    "#讀入資料及檔案\n",
    "df =pd.read_csv('109married.csv')\n",
    "\n",
    "# 原本 index 為 0, 1, 2, 3...12，改為 月份區域別，這樣 x 軸標籤就會改為 月份區域別\n",
    "data = data.set_index('月份區域別')\n",
    "print(data)"
   ]
  },
  {
   "cell_type": "code",
   "execution_count": 6,
   "metadata": {},
   "outputs": [
    {
     "name": "stderr",
     "output_type": "stream",
     "text": [
      "C:\\Users\\yangt\\Anaconda3\\lib\\site-packages\\matplotlib\\backends\\backend_agg.py:238: RuntimeWarning: Glyph 26691 missing from current font.\n",
      "  font.set_text(s, 0.0, flags=flags)\n",
      "C:\\Users\\yangt\\Anaconda3\\lib\\site-packages\\matplotlib\\backends\\backend_agg.py:238: RuntimeWarning: Glyph 22290 missing from current font.\n",
      "  font.set_text(s, 0.0, flags=flags)\n",
      "C:\\Users\\yangt\\Anaconda3\\lib\\site-packages\\matplotlib\\backends\\backend_agg.py:238: RuntimeWarning: Glyph 21312 missing from current font.\n",
      "  font.set_text(s, 0.0, flags=flags)\n",
      "C:\\Users\\yangt\\Anaconda3\\lib\\site-packages\\matplotlib\\backends\\backend_agg.py:238: RuntimeWarning: Glyph 20013 missing from current font.\n",
      "  font.set_text(s, 0.0, flags=flags)\n",
      "C:\\Users\\yangt\\Anaconda3\\lib\\site-packages\\matplotlib\\backends\\backend_agg.py:238: RuntimeWarning: Glyph 22754 missing from current font.\n",
      "  font.set_text(s, 0.0, flags=flags)\n",
      "C:\\Users\\yangt\\Anaconda3\\lib\\site-packages\\matplotlib\\backends\\backend_agg.py:238: RuntimeWarning: Glyph 22823 missing from current font.\n",
      "  font.set_text(s, 0.0, flags=flags)\n",
      "C:\\Users\\yangt\\Anaconda3\\lib\\site-packages\\matplotlib\\backends\\backend_agg.py:238: RuntimeWarning: Glyph 28330 missing from current font.\n",
      "  font.set_text(s, 0.0, flags=flags)\n",
      "C:\\Users\\yangt\\Anaconda3\\lib\\site-packages\\matplotlib\\backends\\backend_agg.py:238: RuntimeWarning: Glyph 26954 missing from current font.\n",
      "  font.set_text(s, 0.0, flags=flags)\n",
      "C:\\Users\\yangt\\Anaconda3\\lib\\site-packages\\matplotlib\\backends\\backend_agg.py:238: RuntimeWarning: Glyph 26757 missing from current font.\n",
      "  font.set_text(s, 0.0, flags=flags)\n",
      "C:\\Users\\yangt\\Anaconda3\\lib\\site-packages\\matplotlib\\backends\\backend_agg.py:238: RuntimeWarning: Glyph 34310 missing from current font.\n",
      "  font.set_text(s, 0.0, flags=flags)\n",
      "C:\\Users\\yangt\\Anaconda3\\lib\\site-packages\\matplotlib\\backends\\backend_agg.py:238: RuntimeWarning: Glyph 31481 missing from current font.\n",
      "  font.set_text(s, 0.0, flags=flags)\n",
      "C:\\Users\\yangt\\Anaconda3\\lib\\site-packages\\matplotlib\\backends\\backend_agg.py:238: RuntimeWarning: Glyph 40860 missing from current font.\n",
      "  font.set_text(s, 0.0, flags=flags)\n",
      "C:\\Users\\yangt\\Anaconda3\\lib\\site-packages\\matplotlib\\backends\\backend_agg.py:238: RuntimeWarning: Glyph 23665 missing from current font.\n",
      "  font.set_text(s, 0.0, flags=flags)\n",
      "C:\\Users\\yangt\\Anaconda3\\lib\\site-packages\\matplotlib\\backends\\backend_agg.py:238: RuntimeWarning: Glyph 20843 missing from current font.\n",
      "  font.set_text(s, 0.0, flags=flags)\n",
      "C:\\Users\\yangt\\Anaconda3\\lib\\site-packages\\matplotlib\\backends\\backend_agg.py:238: RuntimeWarning: Glyph 24503 missing from current font.\n",
      "  font.set_text(s, 0.0, flags=flags)\n",
      "C:\\Users\\yangt\\Anaconda3\\lib\\site-packages\\matplotlib\\backends\\backend_agg.py:238: RuntimeWarning: Glyph 40845 missing from current font.\n",
      "  font.set_text(s, 0.0, flags=flags)\n",
      "C:\\Users\\yangt\\Anaconda3\\lib\\site-packages\\matplotlib\\backends\\backend_agg.py:238: RuntimeWarning: Glyph 28525 missing from current font.\n",
      "  font.set_text(s, 0.0, flags=flags)\n",
      "C:\\Users\\yangt\\Anaconda3\\lib\\site-packages\\matplotlib\\backends\\backend_agg.py:238: RuntimeWarning: Glyph 24179 missing from current font.\n",
      "  font.set_text(s, 0.0, flags=flags)\n",
      "C:\\Users\\yangt\\Anaconda3\\lib\\site-packages\\matplotlib\\backends\\backend_agg.py:238: RuntimeWarning: Glyph 37806 missing from current font.\n",
      "  font.set_text(s, 0.0, flags=flags)\n",
      "C:\\Users\\yangt\\Anaconda3\\lib\\site-packages\\matplotlib\\backends\\backend_agg.py:238: RuntimeWarning: Glyph 26376 missing from current font.\n",
      "  font.set_text(s, 0.0, flags=flags)\n",
      "C:\\Users\\yangt\\Anaconda3\\lib\\site-packages\\matplotlib\\backends\\backend_agg.py:238: RuntimeWarning: Glyph 20221 missing from current font.\n",
      "  font.set_text(s, 0.0, flags=flags)\n",
      "C:\\Users\\yangt\\Anaconda3\\lib\\site-packages\\matplotlib\\backends\\backend_agg.py:238: RuntimeWarning: Glyph 22495 missing from current font.\n",
      "  font.set_text(s, 0.0, flags=flags)\n",
      "C:\\Users\\yangt\\Anaconda3\\lib\\site-packages\\matplotlib\\backends\\backend_agg.py:238: RuntimeWarning: Glyph 21029 missing from current font.\n",
      "  font.set_text(s, 0.0, flags=flags)\n",
      "C:\\Users\\yangt\\Anaconda3\\lib\\site-packages\\matplotlib\\backends\\backend_agg.py:238: RuntimeWarning: Glyph 19968 missing from current font.\n",
      "  font.set_text(s, 0.0, flags=flags)\n",
      "C:\\Users\\yangt\\Anaconda3\\lib\\site-packages\\matplotlib\\backends\\backend_agg.py:201: RuntimeWarning: Glyph 26691 missing from current font.\n",
      "  font.set_text(s, 0, flags=flags)\n",
      "C:\\Users\\yangt\\Anaconda3\\lib\\site-packages\\matplotlib\\backends\\backend_agg.py:201: RuntimeWarning: Glyph 22290 missing from current font.\n",
      "  font.set_text(s, 0, flags=flags)\n",
      "C:\\Users\\yangt\\Anaconda3\\lib\\site-packages\\matplotlib\\backends\\backend_agg.py:201: RuntimeWarning: Glyph 21312 missing from current font.\n",
      "  font.set_text(s, 0, flags=flags)\n",
      "C:\\Users\\yangt\\Anaconda3\\lib\\site-packages\\matplotlib\\backends\\backend_agg.py:201: RuntimeWarning: Glyph 20013 missing from current font.\n",
      "  font.set_text(s, 0, flags=flags)\n",
      "C:\\Users\\yangt\\Anaconda3\\lib\\site-packages\\matplotlib\\backends\\backend_agg.py:201: RuntimeWarning: Glyph 22754 missing from current font.\n",
      "  font.set_text(s, 0, flags=flags)\n",
      "C:\\Users\\yangt\\Anaconda3\\lib\\site-packages\\matplotlib\\backends\\backend_agg.py:201: RuntimeWarning: Glyph 22823 missing from current font.\n",
      "  font.set_text(s, 0, flags=flags)\n",
      "C:\\Users\\yangt\\Anaconda3\\lib\\site-packages\\matplotlib\\backends\\backend_agg.py:201: RuntimeWarning: Glyph 28330 missing from current font.\n",
      "  font.set_text(s, 0, flags=flags)\n",
      "C:\\Users\\yangt\\Anaconda3\\lib\\site-packages\\matplotlib\\backends\\backend_agg.py:201: RuntimeWarning: Glyph 26954 missing from current font.\n",
      "  font.set_text(s, 0, flags=flags)\n",
      "C:\\Users\\yangt\\Anaconda3\\lib\\site-packages\\matplotlib\\backends\\backend_agg.py:201: RuntimeWarning: Glyph 26757 missing from current font.\n",
      "  font.set_text(s, 0, flags=flags)\n",
      "C:\\Users\\yangt\\Anaconda3\\lib\\site-packages\\matplotlib\\backends\\backend_agg.py:201: RuntimeWarning: Glyph 34310 missing from current font.\n",
      "  font.set_text(s, 0, flags=flags)\n",
      "C:\\Users\\yangt\\Anaconda3\\lib\\site-packages\\matplotlib\\backends\\backend_agg.py:201: RuntimeWarning: Glyph 31481 missing from current font.\n",
      "  font.set_text(s, 0, flags=flags)\n",
      "C:\\Users\\yangt\\Anaconda3\\lib\\site-packages\\matplotlib\\backends\\backend_agg.py:201: RuntimeWarning: Glyph 40860 missing from current font.\n",
      "  font.set_text(s, 0, flags=flags)\n",
      "C:\\Users\\yangt\\Anaconda3\\lib\\site-packages\\matplotlib\\backends\\backend_agg.py:201: RuntimeWarning: Glyph 23665 missing from current font.\n",
      "  font.set_text(s, 0, flags=flags)\n",
      "C:\\Users\\yangt\\Anaconda3\\lib\\site-packages\\matplotlib\\backends\\backend_agg.py:201: RuntimeWarning: Glyph 20843 missing from current font.\n",
      "  font.set_text(s, 0, flags=flags)\n",
      "C:\\Users\\yangt\\Anaconda3\\lib\\site-packages\\matplotlib\\backends\\backend_agg.py:201: RuntimeWarning: Glyph 24503 missing from current font.\n",
      "  font.set_text(s, 0, flags=flags)\n",
      "C:\\Users\\yangt\\Anaconda3\\lib\\site-packages\\matplotlib\\backends\\backend_agg.py:201: RuntimeWarning: Glyph 40845 missing from current font.\n",
      "  font.set_text(s, 0, flags=flags)\n",
      "C:\\Users\\yangt\\Anaconda3\\lib\\site-packages\\matplotlib\\backends\\backend_agg.py:201: RuntimeWarning: Glyph 28525 missing from current font.\n",
      "  font.set_text(s, 0, flags=flags)\n",
      "C:\\Users\\yangt\\Anaconda3\\lib\\site-packages\\matplotlib\\backends\\backend_agg.py:201: RuntimeWarning: Glyph 24179 missing from current font.\n",
      "  font.set_text(s, 0, flags=flags)\n",
      "C:\\Users\\yangt\\Anaconda3\\lib\\site-packages\\matplotlib\\backends\\backend_agg.py:201: RuntimeWarning: Glyph 37806 missing from current font.\n",
      "  font.set_text(s, 0, flags=flags)\n",
      "C:\\Users\\yangt\\Anaconda3\\lib\\site-packages\\matplotlib\\backends\\backend_agg.py:201: RuntimeWarning: Glyph 26376 missing from current font.\n",
      "  font.set_text(s, 0, flags=flags)\n",
      "C:\\Users\\yangt\\Anaconda3\\lib\\site-packages\\matplotlib\\backends\\backend_agg.py:201: RuntimeWarning: Glyph 20221 missing from current font.\n",
      "  font.set_text(s, 0, flags=flags)\n",
      "C:\\Users\\yangt\\Anaconda3\\lib\\site-packages\\matplotlib\\backends\\backend_agg.py:201: RuntimeWarning: Glyph 22495 missing from current font.\n",
      "  font.set_text(s, 0, flags=flags)\n",
      "C:\\Users\\yangt\\Anaconda3\\lib\\site-packages\\matplotlib\\backends\\backend_agg.py:201: RuntimeWarning: Glyph 21029 missing from current font.\n",
      "  font.set_text(s, 0, flags=flags)\n",
      "C:\\Users\\yangt\\Anaconda3\\lib\\site-packages\\matplotlib\\backends\\backend_agg.py:201: RuntimeWarning: Glyph 19968 missing from current font.\n",
      "  font.set_text(s, 0, flags=flags)\n"
     ]
    },
    {
     "data": {
      "image/png": "[encoded data removed]",
      "text/plain": [
       "<Figure size 432x288 with 1 Axes>"
      ]
     },
     "metadata": {
      "needs_background": "light"
     },
     "output_type": "display_data"
    }
   ],
   "source": [
    "import matplotlib.pyplot as plt\n",
    "\n",
    "\n",
    "# kind 定義圖表類型。plot 函式會取 column 值代表 y 軸的值，index 索引代表 x 軸\n",
    "axes = data.plot(kind='bar')"
   ]
  },
  {
   "cell_type": "code",
   "execution_count": 9,
   "metadata": {},
   "outputs": [
    {
     "name": "stdout",
     "output_type": "stream",
     "text": [
      "   月份區域別     一月\n",
      "0    桃園區  257.0\n",
      "1    中壢區  251.0\n",
      "2    大溪區   44.0\n",
      "3    楊梅區  112.0\n",
      "4    蘆竹區   83.0\n",
      "5    大園區   57.0\n",
      "6    龜山區   89.0\n",
      "7    八德區  122.0\n",
      "8    龍潭區   64.0\n",
      "9    平鎮區  144.0\n",
      "10   NaN    NaN\n",
      "          一月\n",
      "月份區域別       \n",
      "桃園區    257.0\n",
      "中壢區    251.0\n",
      "大溪區     44.0\n",
      "楊梅區    112.0\n",
      "蘆竹區     83.0\n",
      "大園區     57.0\n",
      "龜山區     89.0\n",
      "八德區    122.0\n",
      "龍潭區     64.0\n",
      "平鎮區    144.0\n",
      "NaN      NaN\n"
     ]
    },
    {
     "data": {
      "image/png": "[encoded data removed]",
      "text/plain": [
       "<Figure size 432x288 with 1 Axes>"
      ]
     },
     "metadata": {
      "needs_background": "light"
     },
     "output_type": "display_data"
    }
   ],
   "source": [
    "import pandas as pd\n",
    "import matplotlib.pyplot as plt\n",
    "from matplotlib.font_manager import FontProperties\n",
    "\n",
    "# 讀入資料集檔案\n",
    "df = pd.read_csv('109married.csv')\n",
    "\n",
    "# loc 取值方式為 [索引, [欄位]]，取 月份區域別 出來當作 index\n",
    "data = df.loc[:, ['月份區域別', '一月']]\n",
    "print(data)\n",
    "# 原本 index 為 0, 1, 2, 3...12，改為 月份區域別，這樣 x 軸標籤就會改為 月份區域別\n",
    "data = data.set_index('月份區域別')\n",
    "print(data)\n",
    "# plot 函式會取 column 值代表 y 軸的值，index 索引代表 x 軸\n",
    "axes = data.plot(kind='bar')\n",
    "\n",
    "myfont = FontProperties(fname=r'NotoSansCJK.ttc')\n",
    "# 設定標頭和字體\n",
    "plt.title('一月份各區域結婚數',fontproperties=myfont)\n",
    "# 設定 x 軸標頭和字體\n",
    "plt.xlabel('區域別',fontproperties=myfont)\n",
    "# 設定 y 軸標頭和字體\n",
    "plt.ylabel('結婚數', fontproperties=myfont)\n",
    "# 設定右上角說明圖示字體\n",
    "plt.legend(prop=myfont)\n",
    "\n",
    "# 使用 for 迴圈一一取出 x 軸標籤 label 設定字體，若 y 軸有中文字也是類似使用方式 get_yticklabels\n",
    "for label in axes.get_xticklabels():\n",
    "    label.set_fontproperties(myfont)\n",
    "\n",
    "# 顯示圖表\n",
    "plt.show()"
   ]
  },
  {
   "cell_type": "code",
   "execution_count": 12,
   "metadata": {},
   "outputs": [
    {
     "data": {
      "text/plain": [
       "Text(0.5, 1.0, 'stock performance')"
      ]
     },
     "execution_count": 12,
     "metadata": {},
     "output_type": "execute_result"
    },
    {
     "data": {
      "image/png": "[encoded data removed]",
      "text/plain": [
       "<Figure size 432x288 with 1 Axes>"
      ]
     },
     "metadata": {
      "needs_background": "light"
     },
     "output_type": "display_data"
    }
   ],
   "source": [
    "import pandas as pd\n",
    "import matplotlib.pyplot as plt\n",
    "\n",
    "# 讀取 CSV 資料\n",
    "df = pd.read_csv('performance2.csv')\n",
    "\n",
    "data = df.loc[:, ['date', 'year_revenue']]\n",
    "data = data.set_index('date')\n",
    "\n",
    "fig = data.plot(kind='bar').get_figure()\n",
    "plt.title('stock performance')"
   ]
  },
  {
   "cell_type": "code",
   "execution_count": 2,
   "metadata": {},
   "outputs": [
    {
     "name": "stdout",
     "output_type": "stream",
     "text": [
      "   證券代號      證券名稱     收盤價    成交筆數\n",
      "1  0051   元大中型100   54.70    74.0\n",
      "2  0052      富邦科技  123.95   316.0\n",
      "3  0053      元大電子   65.45     7.0\n",
      "4  0054    元大台商50   31.07     3.0\n",
      "5  0055  元大MSCI金融   21.14    74.0\n",
      "6  0056     元大高股息   34.77  6071.0\n"
     ]
    }
   ],
   "source": [
    "import pandas as pd\n",
    "df = pd.read_csv('stock.csv')\n",
    "print(df.loc[1:6,['證券代號','證券名稱','收盤價','成交筆數']])"
   ]
  },
  {
   "cell_type": "code",
   "execution_count": 6,
   "metadata": {},
   "outputs": [
    {
     "data": {
      "image/png": "[encoded data removed]",
      "text/plain": [
       "<Figure size 432x288 with 1 Axes>"
      ]
     },
     "metadata": {
      "needs_background": "light"
     },
     "output_type": "display_data"
    }
   ],
   "source": [
    "import pandas as pd\n",
    "import matplotlib.pyplot as plt\n",
    "from matplotlib.font_manager import FontProperties\n",
    "df = pd.read_csv('stock.csv')\n",
    "data=df.loc[0:5,['證券代號','收盤價']]\n",
    "data=data.set_index('證券代號')\n",
    "axes= data.plot(kind='line')\n",
    "myfont= FontProperties(fname=r'NotoSansCJK.ttc')\n",
    "plt.xlabel('證券代號',fontproperties=myfont)\n",
    "plt.ylabel('收盤價',fontproperties=myfont)\n",
    "plt.legend(prop=myfont)\n",
    "plt.show()"
   ]
  },
  {
   "cell_type": "code",
   "execution_count": null,
   "metadata": {},
   "outputs": [],
   "source": []
  }
 ],
 "metadata": {
  "kernelspec": {
   "display_name": "Python 3",
   "language": "python",
   "name": "python3"
  },
  "language_info": {
   "codemirror_mode": {
    "name": "ipython",
    "version": 3
   },
   "file_extension": ".py",
   "mimetype": "text/x-python",
   "name": "python",
   "nbconvert_exporter": "python",
   "pygments_lexer": "ipython3",
   "version": "3.8.5"
  }
 },
 "nbformat": 4,
 "nbformat_minor": 4
}
